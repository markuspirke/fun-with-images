{
 "cells": [
  {
   "cell_type": "code",
   "execution_count": 1,
   "metadata": {},
   "outputs": [],
   "source": [
    "import os\n",
    "import numpy as np\n",
    "from utils import NearestNeighbour\n",
    "import matplotlib.pyplot as plt\n",
    "%matplotlib inline"
   ]
  },
  {
   "cell_type": "code",
   "execution_count": 2,
   "metadata": {},
   "outputs": [],
   "source": [
    "def unpickle(file):\n",
    "    import pickle\n",
    "    with open(file, 'rb') as fo:\n",
    "        dict = pickle.load(fo, encoding='bytes')\n",
    "    return dict"
   ]
  },
  {
   "cell_type": "code",
   "execution_count": 3,
   "metadata": {},
   "outputs": [],
   "source": [
    "fns = [os.path.join('cifar-10-batches-py', fn) for fn in os.listdir('cifar-10-batches-py')]\n",
    "fns_training = list(filter(lambda x: 'data_batch' in x, fns))\n",
    "data = [unpickle(fn) for fn in fns_training]\n",
    "fns_test = list(filter(lambda x: 'test_batch' in x, fns))\n",
    "data_test = [unpickle(fn) for fn in fns_test]"
   ]
  },
  {
   "cell_type": "code",
   "execution_count": 4,
   "metadata": {},
   "outputs": [],
   "source": [
    "# lets split the data into training, validation and test\n",
    "X = np.concatenate([data[i][b'data'] for i in range(len(data))], axis=0)\n",
    "Y = np.concatenate([data[i][b'labels'] for i in range(len(data))], axis=0)\n",
    "Xtr = X[0:45000, :]\n",
    "Ytr = Y[0:45000]\n",
    "Xdev = X[45000:50000, :]\n",
    "Ydev = Y[45000:50000]\n",
    "Xtest = np.concatenate([data_test[i][b'data'] for i in range(len(data_test))], axis=0)\n",
    "Ytest = np.concatenate([data_test[i][b'labels'] for i in range(len(data_test))], axis=0)"
   ]
  },
  {
   "cell_type": "code",
   "execution_count": 5,
   "metadata": {},
   "outputs": [
    {
     "data": {
      "text/plain": [
       "(-0.5, 31.5, 31.5, -0.5)"
      ]
     },
     "execution_count": 5,
     "metadata": {},
     "output_type": "execute_result"
    },
    {
     "data": {
      "image/png": "[encoded data removed]",
      "text/plain": [
       "<Figure size 100x100 with 1 Axes>"
      ]
     },
     "metadata": {},
     "output_type": "display_data"
    }
   ],
   "source": [
    "# lets look at some images\n",
    "ix = 51\n",
    "img = Xtr[ix].reshape(3, 32, 32)\n",
    "img = np.rollaxis(img, 0, 3)\n",
    "plt.figure(figsize=(1,1))\n",
    "plt.imshow(img)\n",
    "plt.axis('off')"
   ]
  },
  {
   "cell_type": "code",
   "execution_count": 14,
   "metadata": {},
   "outputs": [],
   "source": [
    "nn = NearestNeighbour()\n",
    "nn.train(Xtr, Ytr)\n",
    "Ydev_pred = nn.predict(Xdev[:1000])"
   ]
  },
  {
   "cell_type": "code",
   "execution_count": 15,
   "metadata": {},
   "outputs": [
    {
     "data": {
      "text/plain": [
       "0.258"
      ]
     },
     "execution_count": 15,
     "metadata": {},
     "output_type": "execute_result"
    }
   ],
   "source": [
    "np.sum(Ydev_pred == Ydev[:1000])/1000"
   ]
  }
 ],
 "metadata": {
  "kernelspec": {
   "display_name": "venv",
   "language": "python",
   "name": "python3"
  },
  "language_info": {
   "codemirror_mode": {
    "name": "ipython",
    "version": 3
   },
   "file_extension": ".py",
   "mimetype": "text/x-python",
   "name": "python",
   "nbconvert_exporter": "python",
   "pygments_lexer": "ipython3",
   "version": "3.11.2"
  },
  "orig_nbformat": 4
 },
 "nbformat": 4,
 "nbformat_minor": 2
}
