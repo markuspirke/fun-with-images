{
 "cells": [
  {
   "cell_type": "code",
   "execution_count": 2,
   "metadata": {},
   "outputs": [],
   "source": [
    "import os\n",
    "import numpy as np\n",
    "import matplotlib.pyplot as plt\n",
    "%matplotlib inline\n",
    "import torch\n",
    "from torch import nn\n",
    "from torch.nn import functional as F"
   ]
  },
  {
   "cell_type": "code",
   "execution_count": 3,
   "metadata": {},
   "outputs": [],
   "source": [
    "def unpickle(file):\n",
    "    import pickle\n",
    "    with open(file, 'rb') as fo:\n",
    "        dict = pickle.load(fo, encoding='bytes')\n",
    "    return dict"
   ]
  },
  {
   "cell_type": "code",
   "execution_count": 4,
   "metadata": {},
   "outputs": [],
   "source": [
    "fns = [os.path.join('data', fn) for fn in os.listdir('data')]\n",
    "fns_training = list(filter(lambda x: 'data_batch' in x, fns))\n",
    "data = [unpickle(fn) for fn in fns_training]\n",
    "fns_test = list(filter(lambda x: 'test_batch' in x, fns))\n",
    "data_test = [unpickle(fn) for fn in fns_test]"
   ]
  },
  {
   "cell_type": "code",
   "execution_count": 11,
   "metadata": {},
   "outputs": [],
   "source": [
    "\n",
    "# lets split the data into training, validation and test\n",
    "X = np.concatenate([data[i][b'data'] for i in range(len(data))], axis=0)\n",
    "Y = np.concatenate([data[i][b'labels'] for i in range(len(data))], axis=0)\n",
    "Xtr = torch.tensor(X[0:45000, :], dtype=torch.float32)\n",
    "Ytr = torch.tensor(Y[0:45000])\n",
    "Xdev = torch.tensor(X[45000:50000, :], dtype=torch.float32)\n",
    "Ydev = torch.tensor(Y[45000:50000])\n",
    "Xtest = torch.tensor(np.concatenate([data_test[i][b'data'] for i in range(len(data_test))], axis=0))\n",
    "Ytest = torch.tensor(np.concatenate([data_test[i][b'labels'] for i in range(len(data_test))], axis=0))\n",
    "# lets normalize the data\n",
    "# Xtr = (Xtr - Xtr.mean(dim=1, keepdim=True)) / 127.0\n",
    "# Xdev -= (Xdev - Xdev.mean(dim=1, keepdim=True)) / 127.0"
   ]
  },
  {
   "cell_type": "code",
   "execution_count": 34,
   "metadata": {},
   "outputs": [
    {
     "data": {
      "text/plain": [
       "<matplotlib.image.AxesImage at 0x123b97190>"
      ]
     },
     "execution_count": 34,
     "metadata": {},
     "output_type": "execute_result"
    },
    {
     "data": {
      "image/png": "[encoded data removed]",
      "text/plain": [
       "<Figure size 100x100 with 1 Axes>"
      ]
     },
     "metadata": {},
     "output_type": "display_data"
    }
   ],
   "source": [
    "Xtr_conv = Xtr.view(45000, 3, 32, 32)\n",
    "img = Xtr_conv[0].numpy().astype(int)\n",
    "img = np.rollaxis(img, 0, 3)\n",
    "plt.figure(figsize=(1,1))\n",
    "plt.imshow(img)"
   ]
  },
  {
   "cell_type": "code",
   "execution_count": 31,
   "metadata": {},
   "outputs": [],
   "source": [
    "class NeuralNetwork(nn.Module):\n",
    "        def __init__(self):\n",
    "                super().__init__()\n",
    "                self.mlp = nn.Sequential(\n",
    "                        nn.Linear(3072, 50), nn.Tanh(),\n",
    "                        nn.Linear(50, 50), nn.Tanh(),\n",
    "                        nn.Linear(50, 10)\n",
    "                )\n",
    "\n",
    "        def forward(self, x):\n",
    "                logits = self.mlp(x)\n",
    "                return logits\n",
    "\n",
    "class ConvNet(nn.Module):\n",
    "    def __init__(self):\n",
    "        super().__init__()\n",
    "        self.conv1 = nn.Conv2d(3, 6, 5)\n",
    "        self.pool = nn.MaxPool2d(2, 2)\n",
    "        self.conv2 = nn.Conv2d(6, 16, 5)\n",
    "        self.fc1 = nn.Linear(16 * 5 * 5, 120)\n",
    "        self.fc2 = nn.Linear(120, 84)\n",
    "        self.fc3 = nn.Linear(84, 10)\n",
    "\n",
    "    def forward(self, x):\n",
    "        x = self.pool(F.relu(self.conv1(x)))\n",
    "        x = self.pool(F.relu(self.conv2(x)))\n",
    "        x = torch.flatten(x, 1) # flatten all dimensions except batch\n",
    "        x = F.relu(self.fc1(x))\n",
    "        x = F.relu(self.fc2(x))\n",
    "        x = self.fc3(x)\n",
    "        return x"
   ]
  },
  {
   "cell_type": "code",
   "execution_count": 37,
   "metadata": {},
   "outputs": [],
   "source": [
    "model = NeuralNetwork()\n",
    "optimizer = torch.optim.SGD(model.parameters(), lr=1e-3)\n",
    "lossi = [] \n",
    "\n",
    "model_conv = ConvNet()"
   ]
  },
  {
   "cell_type": "code",
   "execution_count": 38,
   "metadata": {},
   "outputs": [
    {
     "name": "stdout",
     "output_type": "stream",
     "text": [
      "tensor(4.7319, grad_fn=<NllLossBackward0>)\n",
      "tensor(4.5600, grad_fn=<NllLossBackward0>)\n",
      "tensor(4.0347, grad_fn=<NllLossBackward0>)\n",
      "tensor(3.7499, grad_fn=<NllLossBackward0>)\n",
      "tensor(4.5308, grad_fn=<NllLossBackward0>)\n",
      "tensor(4.6241, grad_fn=<NllLossBackward0>)\n",
      "tensor(4.2635, grad_fn=<NllLossBackward0>)\n",
      "tensor(4.2513, grad_fn=<NllLossBackward0>)\n",
      "tensor(4.3659, grad_fn=<NllLossBackward0>)\n",
      "tensor(4.6750, grad_fn=<NllLossBackward0>)\n",
      "tensor(4.4988, grad_fn=<NllLossBackward0>)\n",
      "tensor(4.5846, grad_fn=<NllLossBackward0>)\n",
      "tensor(4.7782, grad_fn=<NllLossBackward0>)\n",
      "tensor(4.0676, grad_fn=<NllLossBackward0>)\n",
      "tensor(3.6149, grad_fn=<NllLossBackward0>)\n",
      "tensor(4.1167, grad_fn=<NllLossBackward0>)\n",
      "tensor(4.5766, grad_fn=<NllLossBackward0>)\n",
      "tensor(3.8984, grad_fn=<NllLossBackward0>)\n",
      "tensor(3.9661, grad_fn=<NllLossBackward0>)\n",
      "tensor(4.4687, grad_fn=<NllLossBackward0>)\n"
     ]
    }
   ],
   "source": [
    "for i in range(20000):\n",
    "    #mini batch\n",
    "    batch_size = 32\n",
    "    ix = torch.randint(0, Xtr.shape[0], (batch_size,))\n",
    "    # Xb, Yb = Xtr[ix], Ytr[ix]\n",
    "    Xb_conv, Yb_conv = Xtr_conv[ix], Ytr[ix]\n",
    "    #forward pass\n",
    "    logits = model_conv(Xb_conv)\n",
    "    loss = F.cross_entropy(logits, Yb_conv)\n",
    "    #backward pass\n",
    "    optimizer.zero_grad()  \n",
    "    loss.backward()\n",
    "    optimizer.step()\n",
    "    lossi.append(loss.item())\n",
    "\n",
    "    if i % 1000 == 0:\n",
    "        print(loss)\n",
    "\n"
   ]
  },
  {
   "cell_type": "code",
   "execution_count": 39,
   "metadata": {},
   "outputs": [
    {
     "data": {
      "text/plain": [
       "[<matplotlib.lines.Line2D at 0x127063050>]"
      ]
     },
     "execution_count": 39,
     "metadata": {},
     "output_type": "execute_result"
    },
    {
     "data": {
      "image/png": "[encoded data removed]",
      "text/plain": [
       "<Figure size 640x480 with 1 Axes>"
      ]
     },
     "metadata": {},
     "output_type": "display_data"
    }
   ],
   "source": [
    "plt.plot(torch.tensor(lossi).view(-1, 1000).mean(1))"
   ]
  },
  {
   "cell_type": "code",
   "execution_count": 152,
   "metadata": {},
   "outputs": [
    {
     "name": "stdout",
     "output_type": "stream",
     "text": [
      "Training Loss = 1.4801307916641235, Dev Loss = 1.9026992321014404\n"
     ]
    },
    {
     "data": {
      "text/plain": [
       "tensor(0.2798)"
      ]
     },
     "execution_count": 152,
     "metadata": {},
     "output_type": "execute_result"
    }
   ],
   "source": [
    "model.eval()\n",
    "logits = model(Xdev)\n",
    "loss_dev = F.cross_entropy(logits, Ydev)\n",
    "print(f\"Training Loss = {loss}, Dev Loss = {loss_dev}\")\n",
    "probs = F.softmax(logits, dim=1)\n",
    "ypred = torch.multinomial(probs, num_samples=1).view(-1)\n",
    "sum(ypred == Ydev)/len(Ydev)\n"
   ]
  },
  {
   "cell_type": "code",
   "execution_count": 68,
   "metadata": {},
   "outputs": [
    {
     "data": {
      "text/plain": [
       "torch.Size([5000, 1])"
      ]
     },
     "execution_count": 68,
     "metadata": {},
     "output_type": "execute_result"
    }
   ],
   "source": [
    "ypred.shape"
   ]
  },
  {
   "cell_type": "code",
   "execution_count": null,
   "metadata": {},
   "outputs": [],
   "source": []
  }
 ],
 "metadata": {
  "kernelspec": {
   "display_name": "Python 3",
   "language": "python",
   "name": "python3"
  },
  "language_info": {
   "codemirror_mode": {
    "name": "ipython",
    "version": 3
   },
   "file_extension": ".py",
   "mimetype": "text/x-python",
   "name": "python",
   "nbconvert_exporter": "python",
   "pygments_lexer": "ipython3",
   "version": "3.11.2"
  },
  "orig_nbformat": 4
 },
 "nbformat": 4,
 "nbformat_minor": 2
}
