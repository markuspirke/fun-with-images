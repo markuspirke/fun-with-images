{
  "nbformat": 4,
  "nbformat_minor": 0,
  "metadata": {
    "colab": {
      "provenance": [],
      "gpuType": "T4"
    },
    "kernelspec": {
      "name": "python3",
      "display_name": "Python 3"
    },
    "language_info": {
      "name": "python"
    },
    "accelerator": "GPU",
    "gpuClass": "standard"
  },
  "cells": [
    {
      "cell_type": "code",
      "execution_count": 1,
      "metadata": {
        "id": "nrjTY7QVnJpt"
      },
      "outputs": [],
      "source": [
        "import torch\n",
        "import random\n",
        "import numpy as np\n",
        "import math\n",
        "from torch import nn\n",
        "import torch.nn.functional as F\n",
        "import matplotlib.pyplot as plt"
      ]
    },
    {
      "cell_type": "code",
      "source": [
        "device = (\n",
        "    \"cuda\"\n",
        "    if torch.cuda.is_available()\n",
        "    else \"mps\"\n",
        "    if torch.backends.mps.is_available()\n",
        "    else \"cpu\"\n",
        ")\n",
        "print(f\"Using {device} device\")"
      ],
      "metadata": {
        "colab": {
          "base_uri": "https://localhost:8080/"
        },
        "id": "WbI3ZEzEpx4d",
        "outputId": "06d34b0f-ab61-46ac-d516-9d4acdbf19b4"
      },
      "execution_count": 2,
      "outputs": [
        {
          "output_type": "stream",
          "name": "stdout",
          "text": [
            "Using cuda device\n"
          ]
        }
      ]
    },
    {
      "cell_type": "code",
      "source": [
        "class NN_Circle_Square(nn.Module):\n",
        "  def __init__(self):\n",
        "    super().__init__()\n",
        "    self.flatten = nn.Flatten()\n",
        "    self.stack = nn.Sequential(\n",
        "        nn.Linear(36*36, 100),\n",
        "        nn.ReLU(),\n",
        "        nn.Linear(100,100),\n",
        "        nn.ReLU(),\n",
        "        nn.Linear(100, 10),\n",
        "        nn.ReLU(),\n",
        "        nn.Linear(10, 2),\n",
        "    )\n",
        "\n",
        "  def forward(self, x):\n",
        "    x = self.flatten(x)\n",
        "    return self.stack(x)"
      ],
      "metadata": {
        "id": "R-SDQ8mcnqbL"
      },
      "execution_count": 3,
      "outputs": []
    },
    {
      "cell_type": "code",
      "source": [
        "class CNN_Circle_Square(nn.Module):\n",
        "  def __init__(self):\n",
        "    super().__init__()\n",
        "    self.conv1 = nn.Sequential(\n",
        "        nn.Conv2d(1, 10, 5, padding=2),\n",
        "            # in_channels=1,              \n",
        "            # out_channels=1,            \n",
        "            # kernel_size=5,              \n",
        "            # stride=1,                   \n",
        "            # padding=2,\n",
        "        nn.ReLU(),\n",
        "    )\n",
        "    self.conv2 = nn.Sequential(\n",
        "        nn.Conv2d(10, 10, 3, padding=1),\n",
        "        nn.ReLU(),\n",
        "    )\n",
        "    self.out = nn.Linear(10 * 9 * 9, 2)\n",
        "\n",
        "  def forward(self, x):\n",
        "    x = F.max_pool2d(self.conv1(x), 2)\n",
        "    x = F.max_pool2d(self.conv2(x), 2)\n",
        "    x = x.view(x.size(0), -1)\n",
        "    return self.out(x)"
      ],
      "metadata": {
        "id": "hiICO68WZccZ"
      },
      "execution_count": 121,
      "outputs": []
    },
    {
      "cell_type": "code",
      "source": [
        "def rand_circle(d):\n",
        "  img = torch.zeros(d, d)\n",
        "  r = torch.randint(4, d // 2, (1, 1))[0, 0].item() # 4 to exclude 3x3 circle which are squares\n",
        "  X = torch.randint(d, (1, 2))\n",
        "  x = X[0, 0].item()\n",
        "  y = X[0, 1].item()\n",
        "  for j in range(img.shape[1]):\n",
        "    for i in range(img.shape[0]):\n",
        "      if (x - j)**2 + (y - i)**2 < r**2:\n",
        "        img[i, j] = 1\n",
        "\n",
        "  return img\n",
        "\n",
        "def rand_square(d):\n",
        "  img = torch.zeros(d, d)\n",
        "  a = torch.randint(4, (1, 1))[0, 0].item()\n",
        "  X = torch.randint(d, (1, 2)) #left corner\n",
        "  x = X[0, 0].item()\n",
        "  y = X[0, 1].item()\n",
        "\n",
        "  for j in range(img.shape[1]):\n",
        "    for i in range(img.shape[0]):\n",
        "      if 0 <= j - x <= a  and 0 <= i - y <= a:\n",
        "        img[i, j] = 1\n",
        "\n",
        "  return img\n",
        "\n",
        "\n"
      ],
      "metadata": {
        "id": "XGra_a7J4ZC4"
      },
      "execution_count": 137,
      "outputs": []
    },
    {
      "cell_type": "code",
      "source": [
        "d = 36\n",
        "N = 20000 #trainings sample\n",
        "Xtr = torch.zeros(N, 1, d, d).to(device)\n",
        "Ytr = torch.zeros(N)\n",
        "\n",
        "for i in range(N):\n",
        "  if random.randint(0, 1) == 0:\n",
        "    Xtr[i, 0, :, :] = rand_circle(d)\n",
        "    Ytr[i] = 0 \n",
        "  else:\n",
        "    Xtr[i, 0, :, :] = rand_square(d)\n",
        "    Ytr[i] = 1\n",
        "\n",
        "Ytr = torch.tensor(Ytr, dtype=int).to(device)\n",
        "  "
      ],
      "metadata": {
        "colab": {
          "base_uri": "https://localhost:8080/"
        },
        "id": "AVvXzr3C9jwl",
        "outputId": "ddf52543-29e1-4085-ef40-8cf37ee17660"
      },
      "execution_count": 34,
      "outputs": [
        {
          "output_type": "stream",
          "name": "stderr",
          "text": [
            "<ipython-input-34-3efd07dbdeb9>:14: UserWarning: To copy construct from a tensor, it is recommended to use sourceTensor.clone().detach() or sourceTensor.clone().detach().requires_grad_(True), rather than torch.tensor(sourceTensor).\n",
            "  Ytr = torch.tensor(Ytr, dtype=int).to(device)\n"
          ]
        }
      ]
    },
    {
      "cell_type": "code",
      "source": [
        "model = NN_Circle_Square().to(device)"
      ],
      "metadata": {
        "id": "UbUIIGRO2V28"
      },
      "execution_count": 66,
      "outputs": []
    },
    {
      "cell_type": "code",
      "source": [
        "optimizer = torch.optim.Adam(model.parameters(), lr=1e-3)"
      ],
      "metadata": {
        "id": "LwLIoG07TRnw"
      },
      "execution_count": 70,
      "outputs": []
    },
    {
      "cell_type": "code",
      "source": [
        "max_steps = 10000\n",
        "batch_size = 128\n",
        "lossi = []"
      ],
      "metadata": {
        "id": "y6zQELQZ28Gn"
      },
      "execution_count": 68,
      "outputs": []
    },
    {
      "cell_type": "code",
      "source": [
        "for i in range(max_steps):\n",
        "  ixs = torch.randint(0, Xtr.shape[0], (batch_size,))\n",
        "  logits = model(Xtr[ixs])\n",
        "  loss = F.cross_entropy(logits, Ytr[ixs])\n",
        "  optimizer.zero_grad()\n",
        "  loss.backward()\n",
        "  optimizer.step()\n",
        "  \n",
        "  if i % 1000 == 0:\n",
        "    print(f\"{i}/{max_steps}: {loss.item()}\")\n",
        "\n",
        "  lossi.append(loss.item())"
      ],
      "metadata": {
        "colab": {
          "base_uri": "https://localhost:8080/"
        },
        "id": "iKzYBBSH4Z12",
        "outputId": "df386864-a17d-432e-fcb7-34720a999ddd"
      },
      "execution_count": 75,
      "outputs": [
        {
          "output_type": "stream",
          "name": "stdout",
          "text": [
            "0/10000: 0.012026275508105755\n",
            "1000/10000: 0.019840827211737633\n",
            "2000/10000: 0.011489000171422958\n",
            "3000/10000: 0.0012812070781365037\n",
            "4000/10000: 0.015139899216592312\n",
            "5000/10000: 0.02446376532316208\n",
            "6000/10000: 0.0014124272856861353\n",
            "7000/10000: 0.022506920620799065\n",
            "8000/10000: 0.010860000737011433\n",
            "9000/10000: 0.01938956417143345\n"
          ]
        }
      ]
    },
    {
      "cell_type": "code",
      "source": [
        "Nval = 1000 #trainings sample\n",
        "Xval = torch.zeros(Nval, 1, d, d).to(device)\n",
        "Yval = torch.zeros(Nval)\n",
        "\n",
        "for i in range(Nval):\n",
        "  if i < N/2:\n",
        "    Xval[i, 0, :, :] = rand_circle(d)\n",
        "    Yval[i] = 0 \n",
        "  else:\n",
        "    Xval[i, 0, :, :] = rand_square(d)\n",
        "    Yval[i] = 1\n",
        "\n",
        "Yval = torch.tensor(Yval, dtype=int).to(device)"
      ],
      "metadata": {
        "colab": {
          "base_uri": "https://localhost:8080/"
        },
        "id": "k_BgHsiVQz9J",
        "outputId": "1dc2e66d-4a2c-47a4-d45b-45b612454688"
      },
      "execution_count": 141,
      "outputs": [
        {
          "output_type": "stream",
          "name": "stderr",
          "text": [
            "<ipython-input-141-2048d3d7d70f>:13: UserWarning: To copy construct from a tensor, it is recommended to use sourceTensor.clone().detach() or sourceTensor.clone().detach().requires_grad_(True), rather than torch.tensor(sourceTensor).\n",
            "  Yval = torch.tensor(Yval, dtype=int).to(device)\n"
          ]
        }
      ]
    },
    {
      "cell_type": "code",
      "source": [
        "Y = model(Xval)\n",
        "probs = F.softmax(Y, dim=1)\n",
        "ix = torch.multinomial(probs, num_samples=1).to(device)\n",
        "ix = torch.tensor([i.item() for i in ix]).to(device)"
      ],
      "metadata": {
        "id": "T63Xn_EdTwsN"
      },
      "execution_count": 144,
      "outputs": []
    },
    {
      "cell_type": "code",
      "source": [
        "sum(ix == Yval).item()/Nval"
      ],
      "metadata": {
        "colab": {
          "base_uri": "https://localhost:8080/"
        },
        "id": "XoB0oJqFULcI",
        "outputId": "74c91796-0237-4b45-e9a2-be88096a176f"
      },
      "execution_count": 145,
      "outputs": [
        {
          "output_type": "execute_result",
          "data": {
            "text/plain": [
              "0.953"
            ]
          },
          "metadata": {},
          "execution_count": 145
        }
      ]
    },
    {
      "cell_type": "code",
      "source": [
        "model_cnn = CNN_Circle_Square().to(device)"
      ],
      "metadata": {
        "id": "FFOrZJbRU1Yx"
      },
      "execution_count": 122,
      "outputs": []
    },
    {
      "cell_type": "code",
      "source": [
        "optimizer_cnn = torch.optim.Adam(model_cnn.parameters(), lr=1e-3)"
      ],
      "metadata": {
        "id": "0lOeWa1b5EnQ"
      },
      "execution_count": 123,
      "outputs": []
    },
    {
      "cell_type": "code",
      "source": [
        "max_steps = 10000\n",
        "batch_size = 64\n",
        "lossi = []"
      ],
      "metadata": {
        "id": "lXlVmvZ65JLE"
      },
      "execution_count": 124,
      "outputs": []
    },
    {
      "cell_type": "code",
      "source": [
        "for i in range(max_steps):\n",
        "  ixs = torch.randint(0, Xtr.shape[0], (batch_size,))\n",
        "  logits = model_cnn(Xtr[ixs])\n",
        "  loss = F.cross_entropy(logits, Ytr[ixs])\n",
        "  optimizer_cnn.zero_grad()\n",
        "  loss.backward()\n",
        "  optimizer_cnn.step()\n",
        "  \n",
        "  if i % 1000 == 0:\n",
        "    print(f\"{i}/{max_steps}: {loss.item()}\")\n",
        "\n",
        "  lossi.append(loss.item())"
      ],
      "metadata": {
        "colab": {
          "base_uri": "https://localhost:8080/"
        },
        "id": "IuhKGoHJ5WnY",
        "outputId": "714a95b8-c765-4c00-c3e0-b17f3b923d8d"
      },
      "execution_count": 125,
      "outputs": [
        {
          "output_type": "stream",
          "name": "stdout",
          "text": [
            "0/10000: 0.6911753416061401\n",
            "1000/10000: 0.14475424587726593\n",
            "2000/10000: 0.05706130713224411\n",
            "3000/10000: 0.06376314163208008\n",
            "4000/10000: 0.05851360782980919\n",
            "5000/10000: 0.008182985708117485\n",
            "6000/10000: 0.007679085247218609\n",
            "7000/10000: 0.014429545029997826\n",
            "8000/10000: 0.0068276491947472095\n",
            "9000/10000: 0.003994506783783436\n"
          ]
        }
      ]
    },
    {
      "cell_type": "code",
      "source": [
        "Y = model_cnn(Xval)\n",
        "probs = F.softmax(Y, dim=1)\n",
        "ix = torch.multinomial(probs, num_samples=1).to(device)\n",
        "ix = torch.tensor([i.item() for i in ix]).to(device)"
      ],
      "metadata": {
        "id": "Fpkaib_H5g8b"
      },
      "execution_count": 142,
      "outputs": []
    },
    {
      "cell_type": "code",
      "source": [
        "sum(ix == Yval).item()/Nval"
      ],
      "metadata": {
        "colab": {
          "base_uri": "https://localhost:8080/"
        },
        "id": "r0aBUGRT5wpq",
        "outputId": "1805b1df-ff98-4cec-f29f-cc95119adf5c"
      },
      "execution_count": 143,
      "outputs": [
        {
          "output_type": "execute_result",
          "data": {
            "text/plain": [
              "1.0"
            ]
          },
          "metadata": {},
          "execution_count": 143
        }
      ]
    }
  ]
}